{
 "cells": [
  {
   "cell_type": "markdown",
   "metadata": {},
   "source": [
    "# Introduction\n",
    "\n",
    "The notebook consists of health and demographic data for the period 2014-2015, obtained from Global Health Observatory Data Repository. It conisits of graphs that illustrate different relationships across different regions.\n",
    "\n",
    "\n"
   ]
  },
  {
   "cell_type": "markdown",
   "metadata": {},
   "source": [
    "# Import libraries"
   ]
  },
  {
   "cell_type": "code",
   "execution_count": 1,
   "metadata": {},
   "outputs": [],
   "source": [
    "import numpy as np\n",
    "import pandas as pd\n",
    "import matplotlib.pyplot as plt\n",
    "import seaborn as sns\n",
    "%matplotlib inline"
   ]
  },
  {
   "cell_type": "markdown",
   "metadata": {},
   "source": [
    "# Import dataset"
   ]
  },
  {
   "cell_type": "code",
   "execution_count": 2,
   "metadata": {
    "scrolled": false
   },
   "outputs": [
    {
     "data": {
      "text/html": [
       "<div>\n",
       "<style scoped>\n",
       "    .dataframe tbody tr th:only-of-type {\n",
       "        vertical-align: middle;\n",
       "    }\n",
       "\n",
       "    .dataframe tbody tr th {\n",
       "        vertical-align: top;\n",
       "    }\n",
       "\n",
       "    .dataframe thead th {\n",
       "        text-align: right;\n",
       "    }\n",
       "</style>\n",
       "<table border=\"1\" class=\"dataframe\">\n",
       "  <thead>\n",
       "    <tr style=\"text-align: right;\">\n",
       "      <th></th>\n",
       "      <th>Country</th>\n",
       "      <th>Region</th>\n",
       "      <th>Population</th>\n",
       "      <th>Under15</th>\n",
       "      <th>Over60</th>\n",
       "      <th>FertilityRate</th>\n",
       "      <th>LifeExpectancy</th>\n",
       "      <th>ChildMortality</th>\n",
       "      <th>CellularSubscribers</th>\n",
       "      <th>LiteracyRate</th>\n",
       "      <th>GNI</th>\n",
       "      <th>PrimarySchoolEnrollmentMale</th>\n",
       "      <th>PrimarySchoolEnrollmentFemale</th>\n",
       "    </tr>\n",
       "  </thead>\n",
       "  <tbody>\n",
       "    <tr>\n",
       "      <th>0</th>\n",
       "      <td>Afghanistan</td>\n",
       "      <td>Eastern Mediterranean</td>\n",
       "      <td>29825</td>\n",
       "      <td>47.42</td>\n",
       "      <td>3.82</td>\n",
       "      <td>5.40</td>\n",
       "      <td>60</td>\n",
       "      <td>98.5</td>\n",
       "      <td>54.26</td>\n",
       "      <td>NaN</td>\n",
       "      <td>1140.0</td>\n",
       "      <td>NaN</td>\n",
       "      <td>NaN</td>\n",
       "    </tr>\n",
       "    <tr>\n",
       "      <th>1</th>\n",
       "      <td>Albania</td>\n",
       "      <td>Europe</td>\n",
       "      <td>3162</td>\n",
       "      <td>21.33</td>\n",
       "      <td>14.93</td>\n",
       "      <td>1.75</td>\n",
       "      <td>74</td>\n",
       "      <td>16.7</td>\n",
       "      <td>96.39</td>\n",
       "      <td>NaN</td>\n",
       "      <td>8820.0</td>\n",
       "      <td>NaN</td>\n",
       "      <td>NaN</td>\n",
       "    </tr>\n",
       "    <tr>\n",
       "      <th>2</th>\n",
       "      <td>Algeria</td>\n",
       "      <td>Africa</td>\n",
       "      <td>38482</td>\n",
       "      <td>27.42</td>\n",
       "      <td>7.17</td>\n",
       "      <td>2.83</td>\n",
       "      <td>73</td>\n",
       "      <td>20.0</td>\n",
       "      <td>98.99</td>\n",
       "      <td>NaN</td>\n",
       "      <td>8310.0</td>\n",
       "      <td>98.2</td>\n",
       "      <td>96.4</td>\n",
       "    </tr>\n",
       "    <tr>\n",
       "      <th>3</th>\n",
       "      <td>Andorra</td>\n",
       "      <td>Europe</td>\n",
       "      <td>78</td>\n",
       "      <td>15.20</td>\n",
       "      <td>22.86</td>\n",
       "      <td>NaN</td>\n",
       "      <td>82</td>\n",
       "      <td>3.2</td>\n",
       "      <td>75.49</td>\n",
       "      <td>NaN</td>\n",
       "      <td>NaN</td>\n",
       "      <td>78.4</td>\n",
       "      <td>79.4</td>\n",
       "    </tr>\n",
       "    <tr>\n",
       "      <th>4</th>\n",
       "      <td>Angola</td>\n",
       "      <td>Africa</td>\n",
       "      <td>20821</td>\n",
       "      <td>47.58</td>\n",
       "      <td>3.84</td>\n",
       "      <td>6.10</td>\n",
       "      <td>51</td>\n",
       "      <td>163.5</td>\n",
       "      <td>48.38</td>\n",
       "      <td>70.1</td>\n",
       "      <td>5230.0</td>\n",
       "      <td>93.1</td>\n",
       "      <td>78.2</td>\n",
       "    </tr>\n",
       "  </tbody>\n",
       "</table>\n",
       "</div>"
      ],
      "text/plain": [
       "       Country                 Region  Population  Under15  Over60  \\\n",
       "0  Afghanistan  Eastern Mediterranean       29825    47.42    3.82   \n",
       "1      Albania                 Europe        3162    21.33   14.93   \n",
       "2      Algeria                 Africa       38482    27.42    7.17   \n",
       "3      Andorra                 Europe          78    15.20   22.86   \n",
       "4       Angola                 Africa       20821    47.58    3.84   \n",
       "\n",
       "   FertilityRate  LifeExpectancy  ChildMortality  CellularSubscribers  \\\n",
       "0           5.40              60            98.5                54.26   \n",
       "1           1.75              74            16.7                96.39   \n",
       "2           2.83              73            20.0                98.99   \n",
       "3            NaN              82             3.2                75.49   \n",
       "4           6.10              51           163.5                48.38   \n",
       "\n",
       "   LiteracyRate     GNI  PrimarySchoolEnrollmentMale  \\\n",
       "0           NaN  1140.0                          NaN   \n",
       "1           NaN  8820.0                          NaN   \n",
       "2           NaN  8310.0                         98.2   \n",
       "3           NaN     NaN                         78.4   \n",
       "4          70.1  5230.0                         93.1   \n",
       "\n",
       "   PrimarySchoolEnrollmentFemale  \n",
       "0                            NaN  \n",
       "1                            NaN  \n",
       "2                           96.4  \n",
       "3                           79.4  \n",
       "4                           78.2  "
      ]
     },
     "execution_count": 2,
     "metadata": {},
     "output_type": "execute_result"
    }
   ],
   "source": [
    "df = pd.read_csv(\"../Data/data.csv\")\n",
    "df.head()"
   ]
  },
  {
   "cell_type": "markdown",
   "metadata": {},
   "source": [
    "# 1. Data Preprocessing"
   ]
  },
  {
   "cell_type": "code",
   "execution_count": 3,
   "metadata": {},
   "outputs": [
    {
     "data": {
      "text/plain": [
       "(194, 13)"
      ]
     },
     "execution_count": 3,
     "metadata": {},
     "output_type": "execute_result"
    }
   ],
   "source": [
    "df.shape"
   ]
  },
  {
   "cell_type": "code",
   "execution_count": 4,
   "metadata": {},
   "outputs": [
    {
     "name": "stdout",
     "output_type": "stream",
     "text": [
      "<class 'pandas.core.frame.DataFrame'>\n",
      "RangeIndex: 194 entries, 0 to 193\n",
      "Data columns (total 13 columns):\n",
      " #   Column                         Non-Null Count  Dtype  \n",
      "---  ------                         --------------  -----  \n",
      " 0   Country                        194 non-null    object \n",
      " 1   Region                         194 non-null    object \n",
      " 2   Population                     194 non-null    int64  \n",
      " 3   Under15                        194 non-null    float64\n",
      " 4   Over60                         194 non-null    float64\n",
      " 5   FertilityRate                  183 non-null    float64\n",
      " 6   LifeExpectancy                 194 non-null    int64  \n",
      " 7   ChildMortality                 194 non-null    float64\n",
      " 8   CellularSubscribers            184 non-null    float64\n",
      " 9   LiteracyRate                   103 non-null    float64\n",
      " 10  GNI                            162 non-null    float64\n",
      " 11  PrimarySchoolEnrollmentMale    101 non-null    float64\n",
      " 12  PrimarySchoolEnrollmentFemale  101 non-null    float64\n",
      "dtypes: float64(9), int64(2), object(2)\n",
      "memory usage: 19.8+ KB\n"
     ]
    }
   ],
   "source": [
    "df.info()"
   ]
  },
  {
   "cell_type": "markdown",
   "metadata": {},
   "source": [
    "We have 2 categorial features and 11 numerical features"
   ]
  },
  {
   "cell_type": "code",
   "execution_count": 5,
   "metadata": {},
   "outputs": [
    {
     "data": {
      "text/plain": [
       "Country                           0\n",
       "Region                            0\n",
       "Population                        0\n",
       "Under15                           0\n",
       "Over60                            0\n",
       "FertilityRate                    11\n",
       "LifeExpectancy                    0\n",
       "ChildMortality                    0\n",
       "CellularSubscribers              10\n",
       "LiteracyRate                     91\n",
       "GNI                              32\n",
       "PrimarySchoolEnrollmentMale      93\n",
       "PrimarySchoolEnrollmentFemale    93\n",
       "dtype: int64"
      ]
     },
     "execution_count": 5,
     "metadata": {},
     "output_type": "execute_result"
    }
   ],
   "source": [
    "df.isnull().sum()"
   ]
  },
  {
   "cell_type": "markdown",
   "metadata": {},
   "source": [
    "We have columns that have missing values. Fix the missing values."
   ]
  },
  {
   "cell_type": "code",
   "execution_count": 6,
   "metadata": {},
   "outputs": [],
   "source": [
    "\n",
    "df.loc[df['PrimarySchoolEnrollmentFemale'].isnull(), 'PrimarySchoolEnrollmentFemale'] = df['PrimarySchoolEnrollmentFemale'].mean()\n",
    "df.loc[df['PrimarySchoolEnrollmentMale'].isnull(), 'PrimarySchoolEnrollmentMale'] = df['PrimarySchoolEnrollmentMale'].mean()\n",
    "df.loc[df['CellularSubscribers'].isnull(), 'CellularSubscribers'] = df['CellularSubscribers'].mean()\n",
    "df.loc[df['FertilityRate'].isnull(), 'FertilityRate'] = df['FertilityRate'].mean()\n",
    "df.loc[df['LiteracyRate'].isnull(), 'LiteracyRate'] = df['LiteracyRate'].mean()\n",
    "df.loc[df['GNI'].isnull(), 'GNI'] = df['GNI'].mean()"
   ]
  },
  {
   "cell_type": "code",
   "execution_count": 7,
   "metadata": {},
   "outputs": [
    {
     "data": {
      "text/plain": [
       "Country                          0\n",
       "Region                           0\n",
       "Population                       0\n",
       "Under15                          0\n",
       "Over60                           0\n",
       "FertilityRate                    0\n",
       "LifeExpectancy                   0\n",
       "ChildMortality                   0\n",
       "CellularSubscribers              0\n",
       "LiteracyRate                     0\n",
       "GNI                              0\n",
       "PrimarySchoolEnrollmentMale      0\n",
       "PrimarySchoolEnrollmentFemale    0\n",
       "dtype: int64"
      ]
     },
     "execution_count": 7,
     "metadata": {},
     "output_type": "execute_result"
    }
   ],
   "source": [
    "df.isnull().sum()"
   ]
  },
  {
   "cell_type": "markdown",
   "metadata": {},
   "source": [
    "You can either drop the missing values or you can imputate the values.\n",
    "For the missing values i replaced them with the average value\n"
   ]
  },
  {
   "cell_type": "code",
   "execution_count": 8,
   "metadata": {},
   "outputs": [
    {
     "data": {
      "text/html": [
       "<div>\n",
       "<style scoped>\n",
       "    .dataframe tbody tr th:only-of-type {\n",
       "        vertical-align: middle;\n",
       "    }\n",
       "\n",
       "    .dataframe tbody tr th {\n",
       "        vertical-align: top;\n",
       "    }\n",
       "\n",
       "    .dataframe thead th {\n",
       "        text-align: right;\n",
       "    }\n",
       "</style>\n",
       "<table border=\"1\" class=\"dataframe\">\n",
       "  <thead>\n",
       "    <tr style=\"text-align: right;\">\n",
       "      <th></th>\n",
       "      <th>Population</th>\n",
       "      <th>Under15</th>\n",
       "      <th>Over60</th>\n",
       "      <th>FertilityRate</th>\n",
       "      <th>LifeExpectancy</th>\n",
       "      <th>ChildMortality</th>\n",
       "      <th>CellularSubscribers</th>\n",
       "      <th>LiteracyRate</th>\n",
       "      <th>GNI</th>\n",
       "      <th>PrimarySchoolEnrollmentMale</th>\n",
       "      <th>PrimarySchoolEnrollmentFemale</th>\n",
       "    </tr>\n",
       "  </thead>\n",
       "  <tbody>\n",
       "    <tr>\n",
       "      <th>count</th>\n",
       "      <td>1.940000e+02</td>\n",
       "      <td>194.000000</td>\n",
       "      <td>194.000000</td>\n",
       "      <td>194.000000</td>\n",
       "      <td>194.000000</td>\n",
       "      <td>194.000000</td>\n",
       "      <td>194.000000</td>\n",
       "      <td>194.000000</td>\n",
       "      <td>194.000000</td>\n",
       "      <td>194.000000</td>\n",
       "      <td>194.000000</td>\n",
       "    </tr>\n",
       "    <tr>\n",
       "      <th>mean</th>\n",
       "      <td>3.635997e+04</td>\n",
       "      <td>28.732423</td>\n",
       "      <td>11.163660</td>\n",
       "      <td>2.940656</td>\n",
       "      <td>70.010309</td>\n",
       "      <td>36.148969</td>\n",
       "      <td>93.641522</td>\n",
       "      <td>83.710680</td>\n",
       "      <td>13320.925926</td>\n",
       "      <td>90.850495</td>\n",
       "      <td>89.632673</td>\n",
       "    </tr>\n",
       "    <tr>\n",
       "      <th>std</th>\n",
       "      <td>1.379031e+05</td>\n",
       "      <td>10.534573</td>\n",
       "      <td>7.149331</td>\n",
       "      <td>1.438161</td>\n",
       "      <td>9.259075</td>\n",
       "      <td>37.992935</td>\n",
       "      <td>40.313632</td>\n",
       "      <td>12.744398</td>\n",
       "      <td>13876.421938</td>\n",
       "      <td>7.930316</td>\n",
       "      <td>9.226320</td>\n",
       "    </tr>\n",
       "    <tr>\n",
       "      <th>min</th>\n",
       "      <td>1.000000e+00</td>\n",
       "      <td>13.120000</td>\n",
       "      <td>0.810000</td>\n",
       "      <td>1.260000</td>\n",
       "      <td>47.000000</td>\n",
       "      <td>2.200000</td>\n",
       "      <td>2.570000</td>\n",
       "      <td>31.100000</td>\n",
       "      <td>340.000000</td>\n",
       "      <td>37.200000</td>\n",
       "      <td>32.500000</td>\n",
       "    </tr>\n",
       "    <tr>\n",
       "      <th>25%</th>\n",
       "      <td>1.695750e+03</td>\n",
       "      <td>18.717500</td>\n",
       "      <td>5.200000</td>\n",
       "      <td>1.842500</td>\n",
       "      <td>64.000000</td>\n",
       "      <td>8.425000</td>\n",
       "      <td>66.057500</td>\n",
       "      <td>83.710680</td>\n",
       "      <td>3330.000000</td>\n",
       "      <td>90.850495</td>\n",
       "      <td>89.632673</td>\n",
       "    </tr>\n",
       "    <tr>\n",
       "      <th>50%</th>\n",
       "      <td>7.790000e+03</td>\n",
       "      <td>28.650000</td>\n",
       "      <td>8.530000</td>\n",
       "      <td>2.490000</td>\n",
       "      <td>72.500000</td>\n",
       "      <td>18.600000</td>\n",
       "      <td>94.315000</td>\n",
       "      <td>83.710680</td>\n",
       "      <td>11085.000000</td>\n",
       "      <td>90.850495</td>\n",
       "      <td>89.632673</td>\n",
       "    </tr>\n",
       "    <tr>\n",
       "      <th>75%</th>\n",
       "      <td>2.453525e+04</td>\n",
       "      <td>37.752500</td>\n",
       "      <td>16.687500</td>\n",
       "      <td>3.767500</td>\n",
       "      <td>76.000000</td>\n",
       "      <td>55.975000</td>\n",
       "      <td>117.980000</td>\n",
       "      <td>92.125000</td>\n",
       "      <td>14617.500000</td>\n",
       "      <td>94.800000</td>\n",
       "      <td>95.325000</td>\n",
       "    </tr>\n",
       "    <tr>\n",
       "      <th>max</th>\n",
       "      <td>1.390000e+06</td>\n",
       "      <td>49.990000</td>\n",
       "      <td>31.920000</td>\n",
       "      <td>7.580000</td>\n",
       "      <td>83.000000</td>\n",
       "      <td>181.600000</td>\n",
       "      <td>196.410000</td>\n",
       "      <td>99.800000</td>\n",
       "      <td>86440.000000</td>\n",
       "      <td>100.000000</td>\n",
       "      <td>100.000000</td>\n",
       "    </tr>\n",
       "  </tbody>\n",
       "</table>\n",
       "</div>"
      ],
      "text/plain": [
       "         Population     Under15      Over60  FertilityRate  LifeExpectancy  \\\n",
       "count  1.940000e+02  194.000000  194.000000     194.000000      194.000000   \n",
       "mean   3.635997e+04   28.732423   11.163660       2.940656       70.010309   \n",
       "std    1.379031e+05   10.534573    7.149331       1.438161        9.259075   \n",
       "min    1.000000e+00   13.120000    0.810000       1.260000       47.000000   \n",
       "25%    1.695750e+03   18.717500    5.200000       1.842500       64.000000   \n",
       "50%    7.790000e+03   28.650000    8.530000       2.490000       72.500000   \n",
       "75%    2.453525e+04   37.752500   16.687500       3.767500       76.000000   \n",
       "max    1.390000e+06   49.990000   31.920000       7.580000       83.000000   \n",
       "\n",
       "       ChildMortality  CellularSubscribers  LiteracyRate           GNI  \\\n",
       "count      194.000000           194.000000    194.000000    194.000000   \n",
       "mean        36.148969            93.641522     83.710680  13320.925926   \n",
       "std         37.992935            40.313632     12.744398  13876.421938   \n",
       "min          2.200000             2.570000     31.100000    340.000000   \n",
       "25%          8.425000            66.057500     83.710680   3330.000000   \n",
       "50%         18.600000            94.315000     83.710680  11085.000000   \n",
       "75%         55.975000           117.980000     92.125000  14617.500000   \n",
       "max        181.600000           196.410000     99.800000  86440.000000   \n",
       "\n",
       "       PrimarySchoolEnrollmentMale  PrimarySchoolEnrollmentFemale  \n",
       "count                   194.000000                     194.000000  \n",
       "mean                     90.850495                      89.632673  \n",
       "std                       7.930316                       9.226320  \n",
       "min                      37.200000                      32.500000  \n",
       "25%                      90.850495                      89.632673  \n",
       "50%                      90.850495                      89.632673  \n",
       "75%                      94.800000                      95.325000  \n",
       "max                     100.000000                     100.000000  "
      ]
     },
     "execution_count": 8,
     "metadata": {},
     "output_type": "execute_result"
    }
   ],
   "source": [
    "df.describe()"
   ]
  },
  {
   "cell_type": "code",
   "execution_count": 9,
   "metadata": {},
   "outputs": [
    {
     "data": {
      "text/plain": [
       "194"
      ]
     },
     "execution_count": 9,
     "metadata": {},
     "output_type": "execute_result"
    }
   ],
   "source": [
    "df['Country'].count()"
   ]
  },
  {
   "cell_type": "markdown",
   "metadata": {},
   "source": [
    "Checked the data to see of anything is wrong with the data and i find that besides the missing values the data looks fine."
   ]
  },
  {
   "cell_type": "markdown",
   "metadata": {},
   "source": [
    "# Answering questions provided"
   ]
  },
  {
   "cell_type": "code",
   "execution_count": 10,
   "metadata": {
    "scrolled": true
   },
   "outputs": [
    {
     "data": {
      "text/html": [
       "<div>\n",
       "<style scoped>\n",
       "    .dataframe tbody tr th:only-of-type {\n",
       "        vertical-align: middle;\n",
       "    }\n",
       "\n",
       "    .dataframe tbody tr th {\n",
       "        vertical-align: top;\n",
       "    }\n",
       "\n",
       "    .dataframe thead th {\n",
       "        text-align: right;\n",
       "    }\n",
       "</style>\n",
       "<table border=\"1\" class=\"dataframe\">\n",
       "  <thead>\n",
       "    <tr style=\"text-align: right;\">\n",
       "      <th></th>\n",
       "      <th>Country</th>\n",
       "      <th>Region</th>\n",
       "      <th>Population</th>\n",
       "      <th>Under15</th>\n",
       "      <th>Over60</th>\n",
       "      <th>FertilityRate</th>\n",
       "      <th>LifeExpectancy</th>\n",
       "      <th>ChildMortality</th>\n",
       "      <th>CellularSubscribers</th>\n",
       "      <th>LiteracyRate</th>\n",
       "      <th>GNI</th>\n",
       "      <th>PrimarySchoolEnrollmentMale</th>\n",
       "      <th>PrimarySchoolEnrollmentFemale</th>\n",
       "    </tr>\n",
       "  </thead>\n",
       "  <tbody>\n",
       "    <tr>\n",
       "      <th>85</th>\n",
       "      <td>Japan</td>\n",
       "      <td>Western Pacific</td>\n",
       "      <td>127000</td>\n",
       "      <td>13.12</td>\n",
       "      <td>31.92</td>\n",
       "      <td>1.39</td>\n",
       "      <td>83</td>\n",
       "      <td>3.0</td>\n",
       "      <td>104.95</td>\n",
       "      <td>83.71068</td>\n",
       "      <td>35330.0</td>\n",
       "      <td>90.850495</td>\n",
       "      <td>89.632673</td>\n",
       "    </tr>\n",
       "  </tbody>\n",
       "</table>\n",
       "</div>"
      ],
      "text/plain": [
       "   Country           Region  Population  Under15  Over60  FertilityRate  \\\n",
       "85   Japan  Western Pacific      127000    13.12   31.92           1.39   \n",
       "\n",
       "    LifeExpectancy  ChildMortality  CellularSubscribers  LiteracyRate  \\\n",
       "85              83             3.0               104.95      83.71068   \n",
       "\n",
       "        GNI  PrimarySchoolEnrollmentMale  PrimarySchoolEnrollmentFemale  \n",
       "85  35330.0                    90.850495                      89.632673  "
      ]
     },
     "execution_count": 10,
     "metadata": {},
     "output_type": "execute_result"
    }
   ],
   "source": [
    "df[df['Under15'] == min(df['Under15'])]"
   ]
  },
  {
   "cell_type": "code",
   "execution_count": 11,
   "metadata": {},
   "outputs": [
    {
     "data": {
      "text/html": [
       "<div>\n",
       "<style scoped>\n",
       "    .dataframe tbody tr th:only-of-type {\n",
       "        vertical-align: middle;\n",
       "    }\n",
       "\n",
       "    .dataframe tbody tr th {\n",
       "        vertical-align: top;\n",
       "    }\n",
       "\n",
       "    .dataframe thead th {\n",
       "        text-align: right;\n",
       "    }\n",
       "</style>\n",
       "<table border=\"1\" class=\"dataframe\">\n",
       "  <thead>\n",
       "    <tr style=\"text-align: right;\">\n",
       "      <th></th>\n",
       "      <th>Country</th>\n",
       "      <th>Region</th>\n",
       "      <th>Population</th>\n",
       "      <th>Under15</th>\n",
       "      <th>Over60</th>\n",
       "      <th>FertilityRate</th>\n",
       "      <th>LifeExpectancy</th>\n",
       "      <th>ChildMortality</th>\n",
       "      <th>CellularSubscribers</th>\n",
       "      <th>LiteracyRate</th>\n",
       "      <th>GNI</th>\n",
       "      <th>PrimarySchoolEnrollmentMale</th>\n",
       "      <th>PrimarySchoolEnrollmentFemale</th>\n",
       "    </tr>\n",
       "  </thead>\n",
       "  <tbody>\n",
       "    <tr>\n",
       "      <th>123</th>\n",
       "      <td>Niger</td>\n",
       "      <td>Africa</td>\n",
       "      <td>17157</td>\n",
       "      <td>49.99</td>\n",
       "      <td>4.26</td>\n",
       "      <td>7.58</td>\n",
       "      <td>56</td>\n",
       "      <td>113.5</td>\n",
       "      <td>29.52</td>\n",
       "      <td>83.71068</td>\n",
       "      <td>720.0</td>\n",
       "      <td>64.2</td>\n",
       "      <td>52.0</td>\n",
       "    </tr>\n",
       "  </tbody>\n",
       "</table>\n",
       "</div>"
      ],
      "text/plain": [
       "    Country  Region  Population  Under15  Over60  FertilityRate  \\\n",
       "123   Niger  Africa       17157    49.99    4.26           7.58   \n",
       "\n",
       "     LifeExpectancy  ChildMortality  CellularSubscribers  LiteracyRate    GNI  \\\n",
       "123              56           113.5                29.52      83.71068  720.0   \n",
       "\n",
       "     PrimarySchoolEnrollmentMale  PrimarySchoolEnrollmentFemale  \n",
       "123                         64.2                           52.0  "
      ]
     },
     "execution_count": 11,
     "metadata": {},
     "output_type": "execute_result"
    }
   ],
   "source": [
    "df[df['Under15'] == max(df['Under15'])]"
   ]
  },
  {
   "cell_type": "markdown",
   "metadata": {},
   "source": [
    "The country with the lowest of their population under 15 is Japan and the country with the highest of their population under 15 is Niger."
   ]
  },
  {
   "cell_type": "code",
   "execution_count": 12,
   "metadata": {
    "scrolled": true
   },
   "outputs": [
    {
     "data": {
      "text/html": [
       "<div>\n",
       "<style scoped>\n",
       "    .dataframe tbody tr th:only-of-type {\n",
       "        vertical-align: middle;\n",
       "    }\n",
       "\n",
       "    .dataframe tbody tr th {\n",
       "        vertical-align: top;\n",
       "    }\n",
       "\n",
       "    .dataframe thead th {\n",
       "        text-align: right;\n",
       "    }\n",
       "</style>\n",
       "<table border=\"1\" class=\"dataframe\">\n",
       "  <thead>\n",
       "    <tr style=\"text-align: right;\">\n",
       "      <th></th>\n",
       "      <th>Over60</th>\n",
       "    </tr>\n",
       "    <tr>\n",
       "      <th>Region</th>\n",
       "      <th></th>\n",
       "    </tr>\n",
       "  </thead>\n",
       "  <tbody>\n",
       "    <tr>\n",
       "      <th>Africa</th>\n",
       "      <td>13.23</td>\n",
       "    </tr>\n",
       "    <tr>\n",
       "      <th>Americas</th>\n",
       "      <td>20.82</td>\n",
       "    </tr>\n",
       "    <tr>\n",
       "      <th>Eastern Mediterranean</th>\n",
       "      <td>12.03</td>\n",
       "    </tr>\n",
       "    <tr>\n",
       "      <th>Europe</th>\n",
       "      <td>26.97</td>\n",
       "    </tr>\n",
       "    <tr>\n",
       "      <th>South-East Asia</th>\n",
       "      <td>13.96</td>\n",
       "    </tr>\n",
       "    <tr>\n",
       "      <th>Western Pacific</th>\n",
       "      <td>31.92</td>\n",
       "    </tr>\n",
       "  </tbody>\n",
       "</table>\n",
       "</div>"
      ],
      "text/plain": [
       "                       Over60\n",
       "Region                       \n",
       "Africa                  13.23\n",
       "Americas                20.82\n",
       "Eastern Mediterranean   12.03\n",
       "Europe                  26.97\n",
       "South-East Asia         13.96\n",
       "Western Pacific         31.92"
      ]
     },
     "execution_count": 12,
     "metadata": {},
     "output_type": "execute_result"
    }
   ],
   "source": [
    "df[['Region', 'Over60']].groupby('Region').max()\n"
   ]
  },
  {
   "cell_type": "code",
   "execution_count": 13,
   "metadata": {},
   "outputs": [
    {
     "data": {
      "text/plain": [
       "85    Western Pacific\n",
       "Name: Region, dtype: object"
      ]
     },
     "execution_count": 13,
     "metadata": {},
     "output_type": "execute_result"
    }
   ],
   "source": [
    "df[df['Over60'] == max(df['Over60'])]['Region']"
   ]
  },
  {
   "cell_type": "markdown",
   "metadata": {},
   "source": [
    "The region with the highest of their population over 60 is the Western Pacific followed by Europe with the lowest being Africa"
   ]
  },
  {
   "cell_type": "code",
   "execution_count": 14,
   "metadata": {},
   "outputs": [
    {
     "data": {
      "image/png": "[encoded data removed]",
      "text/plain": [
       "<Figure size 1080x576 with 1 Axes>"
      ]
     },
     "metadata": {
      "needs_background": "light"
     },
     "output_type": "display_data"
    }
   ],
   "source": [
    "sns.relplot(x=\"GNI\", y=\"FertilityRate\", data=df,);\n",
    "plt.xlabel('GNI', fontweight='bold')\n",
    "plt.ylabel('FertilityRate', fontweight='bold')\n",
    "plt.title(\"Relationship between FertilityRate and Income\",fontsize=20, fontweight=\"bold\");\n",
    "plt.gcf().set_size_inches(15, 8)\n",
    "\n"
   ]
  },
  {
   "cell_type": "code",
   "execution_count": 15,
   "metadata": {},
   "outputs": [
    {
     "data": {
      "text/html": [
       "<div>\n",
       "<style scoped>\n",
       "    .dataframe tbody tr th:only-of-type {\n",
       "        vertical-align: middle;\n",
       "    }\n",
       "\n",
       "    .dataframe tbody tr th {\n",
       "        vertical-align: top;\n",
       "    }\n",
       "\n",
       "    .dataframe thead th {\n",
       "        text-align: right;\n",
       "    }\n",
       "</style>\n",
       "<table border=\"1\" class=\"dataframe\">\n",
       "  <thead>\n",
       "    <tr style=\"text-align: right;\">\n",
       "      <th></th>\n",
       "      <th>Country</th>\n",
       "      <th>Region</th>\n",
       "      <th>Population</th>\n",
       "      <th>Under15</th>\n",
       "      <th>Over60</th>\n",
       "      <th>FertilityRate</th>\n",
       "      <th>LifeExpectancy</th>\n",
       "      <th>ChildMortality</th>\n",
       "      <th>CellularSubscribers</th>\n",
       "      <th>LiteracyRate</th>\n",
       "      <th>GNI</th>\n",
       "      <th>PrimarySchoolEnrollmentMale</th>\n",
       "      <th>PrimarySchoolEnrollmentFemale</th>\n",
       "    </tr>\n",
       "  </thead>\n",
       "  <tbody>\n",
       "    <tr>\n",
       "      <th>49</th>\n",
       "      <td>Djibouti</td>\n",
       "      <td>Eastern Mediterranean</td>\n",
       "      <td>860</td>\n",
       "      <td>33.72</td>\n",
       "      <td>5.96</td>\n",
       "      <td>3.53</td>\n",
       "      <td>58</td>\n",
       "      <td>80.9</td>\n",
       "      <td>21.320000</td>\n",
       "      <td>83.71068</td>\n",
       "      <td>13320.925926</td>\n",
       "      <td>90.850495</td>\n",
       "      <td>89.632673</td>\n",
       "    </tr>\n",
       "    <tr>\n",
       "      <th>55</th>\n",
       "      <td>Equatorial Guinea</td>\n",
       "      <td>Africa</td>\n",
       "      <td>736</td>\n",
       "      <td>38.95</td>\n",
       "      <td>4.53</td>\n",
       "      <td>5.04</td>\n",
       "      <td>54</td>\n",
       "      <td>100.3</td>\n",
       "      <td>59.150000</td>\n",
       "      <td>93.90000</td>\n",
       "      <td>25620.000000</td>\n",
       "      <td>56.500000</td>\n",
       "      <td>56.000000</td>\n",
       "    </tr>\n",
       "    <tr>\n",
       "      <th>62</th>\n",
       "      <td>Gabon</td>\n",
       "      <td>Africa</td>\n",
       "      <td>1633</td>\n",
       "      <td>38.49</td>\n",
       "      <td>7.38</td>\n",
       "      <td>4.18</td>\n",
       "      <td>62</td>\n",
       "      <td>62.0</td>\n",
       "      <td>117.320000</td>\n",
       "      <td>88.40000</td>\n",
       "      <td>13740.000000</td>\n",
       "      <td>90.850495</td>\n",
       "      <td>89.632673</td>\n",
       "    </tr>\n",
       "    <tr>\n",
       "      <th>160</th>\n",
       "      <td>South Sudan</td>\n",
       "      <td>Eastern Mediterranean</td>\n",
       "      <td>10838</td>\n",
       "      <td>42.28</td>\n",
       "      <td>5.26</td>\n",
       "      <td>5.10</td>\n",
       "      <td>54</td>\n",
       "      <td>104.0</td>\n",
       "      <td>93.641522</td>\n",
       "      <td>83.71068</td>\n",
       "      <td>13320.925926</td>\n",
       "      <td>90.850495</td>\n",
       "      <td>89.632673</td>\n",
       "    </tr>\n",
       "    <tr>\n",
       "      <th>193</th>\n",
       "      <td>Zimbabwe</td>\n",
       "      <td>Africa</td>\n",
       "      <td>13724</td>\n",
       "      <td>40.24</td>\n",
       "      <td>5.68</td>\n",
       "      <td>3.64</td>\n",
       "      <td>54</td>\n",
       "      <td>89.8</td>\n",
       "      <td>72.130000</td>\n",
       "      <td>92.20000</td>\n",
       "      <td>13320.925926</td>\n",
       "      <td>90.850495</td>\n",
       "      <td>89.632673</td>\n",
       "    </tr>\n",
       "  </tbody>\n",
       "</table>\n",
       "</div>"
      ],
      "text/plain": [
       "               Country                 Region  Population  Under15  Over60  \\\n",
       "49            Djibouti  Eastern Mediterranean         860    33.72    5.96   \n",
       "55   Equatorial Guinea                 Africa         736    38.95    4.53   \n",
       "62               Gabon                 Africa        1633    38.49    7.38   \n",
       "160        South Sudan  Eastern Mediterranean       10838    42.28    5.26   \n",
       "193           Zimbabwe                 Africa       13724    40.24    5.68   \n",
       "\n",
       "     FertilityRate  LifeExpectancy  ChildMortality  CellularSubscribers  \\\n",
       "49            3.53              58            80.9            21.320000   \n",
       "55            5.04              54           100.3            59.150000   \n",
       "62            4.18              62            62.0           117.320000   \n",
       "160           5.10              54           104.0            93.641522   \n",
       "193           3.64              54            89.8            72.130000   \n",
       "\n",
       "     LiteracyRate           GNI  PrimarySchoolEnrollmentMale  \\\n",
       "49       83.71068  13320.925926                    90.850495   \n",
       "55       93.90000  25620.000000                    56.500000   \n",
       "62       88.40000  13740.000000                    90.850495   \n",
       "160      83.71068  13320.925926                    90.850495   \n",
       "193      92.20000  13320.925926                    90.850495   \n",
       "\n",
       "     PrimarySchoolEnrollmentFemale  \n",
       "49                       89.632673  \n",
       "55                       56.000000  \n",
       "62                       89.632673  \n",
       "160                      89.632673  \n",
       "193                      89.632673  "
      ]
     },
     "execution_count": 15,
     "metadata": {},
     "output_type": "execute_result"
    }
   ],
   "source": [
    "df[(df['GNI'] > 10000) & (df['FertilityRate'] > 3.5) & (df['FertilityRate'] < 6)]"
   ]
  },
  {
   "cell_type": "markdown",
   "metadata": {},
   "source": [
    "Fertility rate decreases as income increases. For countries such as Gabon and Equatorial Guinea, this is not the case"
   ]
  },
  {
   "cell_type": "code",
   "execution_count": 16,
   "metadata": {},
   "outputs": [
    {
     "data": {
      "text/html": [
       "<div>\n",
       "<style scoped>\n",
       "    .dataframe tbody tr th:only-of-type {\n",
       "        vertical-align: middle;\n",
       "    }\n",
       "\n",
       "    .dataframe tbody tr th {\n",
       "        vertical-align: top;\n",
       "    }\n",
       "\n",
       "    .dataframe thead th {\n",
       "        text-align: right;\n",
       "    }\n",
       "</style>\n",
       "<table border=\"1\" class=\"dataframe\">\n",
       "  <thead>\n",
       "    <tr style=\"text-align: right;\">\n",
       "      <th></th>\n",
       "      <th>LiteracyRate</th>\n",
       "    </tr>\n",
       "    <tr>\n",
       "      <th>Region</th>\n",
       "      <th></th>\n",
       "    </tr>\n",
       "  </thead>\n",
       "  <tbody>\n",
       "    <tr>\n",
       "      <th>Africa</th>\n",
       "      <td>31.10000</td>\n",
       "    </tr>\n",
       "    <tr>\n",
       "      <th>Americas</th>\n",
       "      <td>75.20000</td>\n",
       "    </tr>\n",
       "    <tr>\n",
       "      <th>Eastern Mediterranean</th>\n",
       "      <td>63.90000</td>\n",
       "    </tr>\n",
       "    <tr>\n",
       "      <th>Europe</th>\n",
       "      <td>83.71068</td>\n",
       "    </tr>\n",
       "    <tr>\n",
       "      <th>South-East Asia</th>\n",
       "      <td>56.80000</td>\n",
       "    </tr>\n",
       "    <tr>\n",
       "      <th>Western Pacific</th>\n",
       "      <td>60.60000</td>\n",
       "    </tr>\n",
       "  </tbody>\n",
       "</table>\n",
       "</div>"
      ],
      "text/plain": [
       "                       LiteracyRate\n",
       "Region                             \n",
       "Africa                     31.10000\n",
       "Americas                   75.20000\n",
       "Eastern Mediterranean      63.90000\n",
       "Europe                     83.71068\n",
       "South-East Asia            56.80000\n",
       "Western Pacific            60.60000"
      ]
     },
     "execution_count": 16,
     "metadata": {},
     "output_type": "execute_result"
    }
   ],
   "source": [
    "\n",
    "df[['Region', 'LiteracyRate']].groupby('Region').min()\n"
   ]
  },
  {
   "cell_type": "markdown",
   "metadata": {},
   "source": [
    "Africa has the lowest LiteracyRate.The difference between Africa who has the lowest literacyrate and Europe that has the highest is very huge. "
   ]
  },
  {
   "cell_type": "code",
   "execution_count": 17,
   "metadata": {},
   "outputs": [
    {
     "data": {
      "text/html": [
       "<div>\n",
       "<style scoped>\n",
       "    .dataframe tbody tr th:only-of-type {\n",
       "        vertical-align: middle;\n",
       "    }\n",
       "\n",
       "    .dataframe tbody tr th {\n",
       "        vertical-align: top;\n",
       "    }\n",
       "\n",
       "    .dataframe thead th {\n",
       "        text-align: right;\n",
       "    }\n",
       "</style>\n",
       "<table border=\"1\" class=\"dataframe\">\n",
       "  <thead>\n",
       "    <tr style=\"text-align: right;\">\n",
       "      <th></th>\n",
       "      <th>Country</th>\n",
       "      <th>Region</th>\n",
       "      <th>Population</th>\n",
       "      <th>Under15</th>\n",
       "      <th>Over60</th>\n",
       "      <th>FertilityRate</th>\n",
       "      <th>LifeExpectancy</th>\n",
       "      <th>ChildMortality</th>\n",
       "      <th>CellularSubscribers</th>\n",
       "      <th>LiteracyRate</th>\n",
       "      <th>GNI</th>\n",
       "      <th>PrimarySchoolEnrollmentMale</th>\n",
       "      <th>PrimarySchoolEnrollmentFemale</th>\n",
       "    </tr>\n",
       "  </thead>\n",
       "  <tbody>\n",
       "    <tr>\n",
       "      <th>104</th>\n",
       "      <td>Mali</td>\n",
       "      <td>Africa</td>\n",
       "      <td>14854</td>\n",
       "      <td>47.14</td>\n",
       "      <td>4.29</td>\n",
       "      <td>6.85</td>\n",
       "      <td>51</td>\n",
       "      <td>128.0</td>\n",
       "      <td>68.32</td>\n",
       "      <td>31.1</td>\n",
       "      <td>1040.0</td>\n",
       "      <td>70.6</td>\n",
       "      <td>60.8</td>\n",
       "    </tr>\n",
       "  </tbody>\n",
       "</table>\n",
       "</div>"
      ],
      "text/plain": [
       "    Country  Region  Population  Under15  Over60  FertilityRate  \\\n",
       "104    Mali  Africa       14854    47.14    4.29           6.85   \n",
       "\n",
       "     LifeExpectancy  ChildMortality  CellularSubscribers  LiteracyRate  \\\n",
       "104              51           128.0                68.32          31.1   \n",
       "\n",
       "        GNI  PrimarySchoolEnrollmentMale  PrimarySchoolEnrollmentFemale  \n",
       "104  1040.0                         70.6                           60.8  "
      ]
     },
     "execution_count": 17,
     "metadata": {},
     "output_type": "execute_result"
    }
   ],
   "source": [
    "df_ = df[df['LiteracyRate'].notnull()]\n",
    "df_[df_['LiteracyRate'] == min(df_['LiteracyRate'])]"
   ]
  },
  {
   "cell_type": "code",
   "execution_count": 18,
   "metadata": {},
   "outputs": [
    {
     "data": {
      "text/html": [
       "<div>\n",
       "<style scoped>\n",
       "    .dataframe tbody tr th:only-of-type {\n",
       "        vertical-align: middle;\n",
       "    }\n",
       "\n",
       "    .dataframe tbody tr th {\n",
       "        vertical-align: top;\n",
       "    }\n",
       "\n",
       "    .dataframe thead th {\n",
       "        text-align: right;\n",
       "    }\n",
       "</style>\n",
       "<table border=\"1\" class=\"dataframe\">\n",
       "  <thead>\n",
       "    <tr style=\"text-align: right;\">\n",
       "      <th></th>\n",
       "      <th>ChildMortality</th>\n",
       "    </tr>\n",
       "    <tr>\n",
       "      <th>Region</th>\n",
       "      <th></th>\n",
       "    </tr>\n",
       "  </thead>\n",
       "  <tbody>\n",
       "    <tr>\n",
       "      <th>Africa</th>\n",
       "      <td>13.1</td>\n",
       "    </tr>\n",
       "    <tr>\n",
       "      <th>Americas</th>\n",
       "      <td>5.3</td>\n",
       "    </tr>\n",
       "    <tr>\n",
       "      <th>Eastern Mediterranean</th>\n",
       "      <td>7.4</td>\n",
       "    </tr>\n",
       "    <tr>\n",
       "      <th>Europe</th>\n",
       "      <td>2.2</td>\n",
       "    </tr>\n",
       "    <tr>\n",
       "      <th>South-East Asia</th>\n",
       "      <td>9.6</td>\n",
       "    </tr>\n",
       "    <tr>\n",
       "      <th>Western Pacific</th>\n",
       "      <td>2.9</td>\n",
       "    </tr>\n",
       "  </tbody>\n",
       "</table>\n",
       "</div>"
      ],
      "text/plain": [
       "                       ChildMortality\n",
       "Region                               \n",
       "Africa                           13.1\n",
       "Americas                          5.3\n",
       "Eastern Mediterranean             7.4\n",
       "Europe                            2.2\n",
       "South-East Asia                   9.6\n",
       "Western Pacific                   2.9"
      ]
     },
     "execution_count": 18,
     "metadata": {},
     "output_type": "execute_result"
    }
   ],
   "source": [
    "df[['Region', 'ChildMortality']].groupby('Region').min()\n"
   ]
  },
  {
   "cell_type": "markdown",
   "metadata": {},
   "source": [
    "Europe has the lowest child mortality rate and Africa has the highest mortality rate."
   ]
  },
  {
   "cell_type": "code",
   "execution_count": 19,
   "metadata": {},
   "outputs": [
    {
     "data": {
      "image/png": "[encoded data removed]",
      "text/plain": [
       "<Figure size 1080x576 with 1 Axes>"
      ]
     },
     "metadata": {
      "needs_background": "light"
     },
     "output_type": "display_data"
    }
   ],
   "source": [
    "df.boxplot(by=\"Region\", column=['LifeExpectancy'], grid=False, rot=90, fontsize=14)\n",
    "plt.ylabel('Life Expectancy' , fontweight='bold')\n",
    "plt.xlabel('Region', fontweight='bold')\n",
    "plt.title('Life Expectancy across different regions', fontsize=20, fontweight=\"bold\")\n",
    "plt.gcf().set_size_inches(15, 8)\n",
    "\n"
   ]
  },
  {
   "cell_type": "markdown",
   "metadata": {},
   "source": [
    "Africa has the lowest Life Expectancy, Europe and Americas has the highest life expectancy."
   ]
  },
  {
   "cell_type": "code",
   "execution_count": 20,
   "metadata": {},
   "outputs": [
    {
     "data": {
      "image/png": "[encoded data removed]",
      "text/plain": [
       "<Figure size 1080x576 with 1 Axes>"
      ]
     },
     "metadata": {
      "needs_background": "light"
     },
     "output_type": "display_data"
    }
   ],
   "source": [
    "sns.relplot(x=\"GNI\", y=\"FertilityRate\", hue=\"Region\", data=df);\n",
    "plt.xlabel('GNI', fontweight='bold')\n",
    "plt.ylabel('FertilityRate', fontweight='bold')\n",
    "plt.title('Relationship between Wealth and Fertility', fontsize=20, fontweight=\"bold\")\n",
    "plt.gcf().set_size_inches(15, 8)\n",
    "plt.show()"
   ]
  },
  {
   "cell_type": "markdown",
   "metadata": {},
   "source": [
    "FertilityRate decreases as the income increases.Countries with a lower FertilityRate have a higher GNI.Few African countries have a slightly higher GNI with a high fertility Rate."
   ]
  },
  {
   "cell_type": "code",
   "execution_count": 21,
   "metadata": {},
   "outputs": [
    {
     "data": {
      "image/png": "[encoded data removed]",
      "text/plain": [
       "<Figure size 1080x576 with 1 Axes>"
      ]
     },
     "metadata": {
      "needs_background": "light"
     },
     "output_type": "display_data"
    }
   ],
   "source": [
    "sns.relplot(x=\"LiteracyRate\", y=\"LifeExpectancy\", hue=\"Region\", data=df);\n",
    "plt.xlabel('LiteracyRate', fontweight='bold')\n",
    "plt.ylabel('LifeExpectancy', fontweight='bold')\n",
    "plt.title('Relationship between Literacyrate and LifeExpectancy', fontsize=20, fontweight=\"bold\")\n",
    "plt.gcf().set_size_inches(15, 8)\n",
    "plt.show()"
   ]
  },
  {
   "cell_type": "markdown",
   "metadata": {},
   "source": [
    "The higher the literacy rate the higher the life expectancy.Most African countries have a lower literacyRate compared to other countries in other Regions which also results in a lower life expectancy."
   ]
  },
  {
   "cell_type": "markdown",
   "metadata": {},
   "source": [
    "# 2. Exploratory data analysis"
   ]
  },
  {
   "cell_type": "markdown",
   "metadata": {},
   "source": [
    "EDA is primarily used to see what data can reveal and provides a better understanding of data set variables and the relationships between them"
   ]
  },
  {
   "cell_type": "code",
   "execution_count": 22,
   "metadata": {},
   "outputs": [
    {
     "data": {
      "image/png": "[encoded data removed]",
      "text/plain": [
       "<Figure size 1080x648 with 1 Axes>"
      ]
     },
     "metadata": {
      "needs_background": "light"
     },
     "output_type": "display_data"
    }
   ],
   "source": [
    "plt.figure(figsize=(15,9))\n",
    "sns.countplot(x = 'Region', data = df, palette=\"hls\")\n",
    "plt.xlabel('Region', fontweight='bold')\n",
    "plt.title(\"Distribution of Region\",fontsize=20, fontweight=\"bold\");\n"
   ]
  },
  {
   "cell_type": "code",
   "execution_count": 23,
   "metadata": {},
   "outputs": [
    {
     "data": {
      "image/png": "[encoded data removed]",
      "text/plain": [
       "<Figure size 1080x648 with 1 Axes>"
      ]
     },
     "metadata": {
      "needs_background": "light"
     },
     "output_type": "display_data"
    }
   ],
   "source": [
    "plt.figure(figsize=(15,9))\n",
    "sns.barplot(data=df, x='Region', y = 'LifeExpectancy')\n",
    "plt.xlabel('Region', fontweight='bold')\n",
    "plt.ylabel('LifeExpectancy', fontweight='bold')\n",
    "plt.title(\"Life Expectancy across different regions\",fontsize=20, fontweight=\"bold\");\n"
   ]
  },
  {
   "cell_type": "markdown",
   "metadata": {},
   "source": [
    "The African Region has the lowest life expectancy rate while Europe has the highest Life Expectancy rate."
   ]
  },
  {
   "cell_type": "code",
   "execution_count": 24,
   "metadata": {},
   "outputs": [
    {
     "data": {
      "image/png": "[encoded data removed]",
      "text/plain": [
       "<Figure size 1080x648 with 1 Axes>"
      ]
     },
     "metadata": {
      "needs_background": "light"
     },
     "output_type": "display_data"
    }
   ],
   "source": [
    "plt.figure(figsize=(15,9))\n",
    "sns.barplot(data=df, x= 'Region', y = 'GNI')\n",
    "plt.xlabel('Region', fontweight='bold')\n",
    "plt.ylabel('GNI', fontweight='bold')\n",
    "plt.title(\"Wealth per Region\",fontsize=20, fontweight=\"bold\");\n"
   ]
  },
  {
   "cell_type": "markdown",
   "metadata": {},
   "source": [
    "Europe has the highest GNI rate and Africa has the lowest GNI rate. GNI measures wealth "
   ]
  },
  {
   "cell_type": "markdown",
   "metadata": {},
   "source": [
    "# 3. Conclusion and insights "
   ]
  },
  {
   "cell_type": "markdown",
   "metadata": {},
   "source": [
    "Africa is one of the regions that are struggling.They have a higher fertility rate yet the lowest GNI rate.Their litercy rate is also fairly low compared to other regions.Life expectancy in the African region is lower.Europe has a higher life expectancy as well as a higher GNI rate.This concludes that countries with a higher GNI tend to have a higher life expectancy rate.\n",
    "Europe is one of the regions that is doing fairly well"
   ]
  }
 ],
 "metadata": {
  "kernelspec": {
   "display_name": "Python 3",
   "language": "python",
   "name": "python3"
  },
  "language_info": {
   "codemirror_mode": {
    "name": "ipython",
    "version": 3
   },
   "file_extension": ".py",
   "mimetype": "text/x-python",
   "name": "python",
   "nbconvert_exporter": "python",
   "pygments_lexer": "ipython3",
   "version": "3.8.5"
  },
  "toc": {
   "base_numbering": 1,
   "nav_menu": {},
   "number_sections": true,
   "sideBar": true,
   "skip_h1_title": false,
   "title_cell": "Table of Contents",
   "title_sidebar": "Contents",
   "toc_cell": false,
   "toc_position": {},
   "toc_section_display": true,
   "toc_window_display": false
  }
 },
 "nbformat": 4,
 "nbformat_minor": 5
}
